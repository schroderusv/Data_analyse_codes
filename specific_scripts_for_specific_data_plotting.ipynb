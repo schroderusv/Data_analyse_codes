{
 "cells": [
  {
   "cell_type": "code",
   "execution_count": 1,
   "metadata": {},
   "outputs": [],
   "source": [
    "import pandas as pd\n",
    "import matplotlib.pyplot as plt\n",
    "import numpy as np"
   ]
  },
  {
   "cell_type": "code",
   "execution_count": 2,
   "metadata": {},
   "outputs": [],
   "source": [
    "def plotting_values(column): #Values that needed to plot the diagram.\n",
    "    values, counts = np.unique(column, return_counts=True)\n",
    "    #need to convert to string to get only wanted values in the x-axis. Edit if you need int.\n",
    "    values_str = list(map(str, values))\n",
    "    return values_str, counts\n"
   ]
  },
  {
   "cell_type": "code",
   "execution_count": 3,
   "metadata": {},
   "outputs": [],
   "source": [
    "def bar_text(plot): #Function to get the numbers above the bars\n",
    "    for v in plot:\n",
    "        height = v.get_height()\n",
    "        plt.text(v.get_x() + v.get_width()/2.,1.00*height,'%d' % int(height), ha='center', va='bottom')\n",
    "    return "
   ]
  },
  {
   "cell_type": "code",
   "execution_count": 4,
   "metadata": {},
   "outputs": [],
   "source": [
    "def labels(question_number):\n",
    "    plt.title('Question %s answers' % question_number)\n",
    "    plt.xlabel('Response levels')\n",
    "    plt.ylabel('Number of answers')\n",
    "    plt.grid(axis='y', alpha=0.75)\n",
    "    return  "
   ]
  },
  {
   "cell_type": "code",
   "execution_count": 5,
   "metadata": {},
   "outputs": [],
   "source": [
    "def main_for_question_task(data_question_number):\n",
    "    v1, c1 = plotting_values(depression_data['%s'%data_question_number])\n",
    "    plot =plt.bar(v1, c1)\n",
    "    bar_text(plot)\n",
    "    labels(data_question_number)\n",
    "    return"
   ]
  },
  {
   "cell_type": "code",
   "execution_count": 8,
   "metadata": {},
   "outputs": [],
   "source": [
    "def labels_texts():\n",
    "    plt.title(input('Label'))\n",
    "    plt.xlabel('Answer alternatives')\n",
    "    plt.ylabel('Number of users')\n",
    "    plt.grid(axis='y', alpha=0.75)\n",
    "    return "
   ]
  },
  {
   "cell_type": "code",
   "execution_count": 1,
   "metadata": {},
   "outputs": [],
   "source": [
    "def main_for_ID(data_column):\n",
    "    v1, c1 = plotting_values(data_column)\n",
    "    plot =plt.barh(v1, c1)\n",
    "    barh_text(c1)\n",
    "    labels_texts()\n",
    "    return"
   ]
  },
  {
   "cell_type": "code",
   "execution_count": null,
   "metadata": {},
   "outputs": [],
   "source": [
    "def barh_text(count): #Function to get the numbers next to the bars\n",
    "    for index, value in enumerate(count):\n",
    "        plt.text(value, index, str(value))\n",
    "    return"
   ]
  }
 ],
 "metadata": {
  "kernelspec": {
   "display_name": "Python 3",
   "language": "python",
   "name": "python3"
  },
  "language_info": {
   "codemirror_mode": {
    "name": "ipython",
    "version": 3
   },
   "file_extension": ".py",
   "mimetype": "text/x-python",
   "name": "python",
   "nbconvert_exporter": "python",
   "pygments_lexer": "ipython3",
   "version": "3.8.8"
  }
 },
 "nbformat": 4,
 "nbformat_minor": 2
}
