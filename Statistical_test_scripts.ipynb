{
 "cells": [
  {
   "cell_type": "code",
   "execution_count": null,
   "id": "4b3613be",
   "metadata": {},
   "outputs": [],
   "source": [
    "import pandas as pd\n",
    "import matplotlib.pyplot as plt\n",
    "import numpy as np\n",
    "import Data_analyse_module as dam\n",
    "import datetime\n",
    "import csv\n",
    "import statsmodels.api as sm \n",
    "from sklearn.linear_model import LogisticRegression\n",
    "from sklearn import datasets\n",
    "from sklearn.preprocessing import StandardScaler\n",
    "from sklearn.metrics import accuracy_score\n",
    "from sklearn.model_selection import train_test_split\n",
    "from sklearn.model_selection import train_test_split"
   ]
  },
  {
   "cell_type": "markdown",
   "id": "a57759aa",
   "metadata": {},
   "source": [
    "# Linear regression script for percents"
   ]
  },
  {
   "cell_type": "markdown",
   "id": "b7382d6e",
   "metadata": {},
   "source": [
    "### In statistics, linear regression is a linear approach for modelling the relationship between a scalar response and one or more explanatory variables (also known as dependent and independent variables). "
   ]
  },
  {
   "cell_type": "code",
   "execution_count": null,
   "id": "19b73685",
   "metadata": {},
   "outputs": [],
   "source": [
    "def linreg(category):\n",
    "    df = pd.read_csv('Percents%s1.csv' % category)\n",
    "    df = df.drop(['Unnamed: 0'], axis=1)\n",
    "    file = open(('Linreg_%s1.csv' % category), 'a', newline= '')\n",
    "    file.write(',slope,intercept,r_value,p_value,std_err')\n",
    "    file.write('\\n')\n",
    "    for i in range (4):\n",
    "        x = df.iloc[i]\n",
    "        y = df.iloc[4]\n",
    "        slope, intercept, r_value, p_value, std_err = stats.linregress(x,y)\n",
    "        file.write(\",%s\" % slope)\n",
    "        file.write(\",%s\" % intercept)\n",
    "        file.write(\",%s\" % r_value)\n",
    "        file.write(\",%s\" % p_value)\n",
    "        file.write(\",%s\" % std_err)\n",
    "        file.write(\"\\n\")\n",
    "    file.close()\n",
    "    return"
   ]
  },
  {
   "cell_type": "markdown",
   "id": "6ab99313",
   "metadata": {},
   "source": [
    "# Multinomial Logistic regression "
   ]
  },
  {
   "cell_type": "markdown",
   "id": "3c746294",
   "metadata": {},
   "source": [
    "### Multinomial logistic regression is used to predict a nominal dependent variable given one or more independent variables. "
   ]
  },
  {
   "cell_type": "code",
   "execution_count": null,
   "id": "bb990424",
   "metadata": {},
   "outputs": [],
   "source": [
    "X = comm_score.iloc[:, 1:25] #Features--> Hours\n",
    "y = comm_score['Ques1'] #Target variables ---> Question1\n",
    "\n",
    "# split X and y into training and testing sets\n",
    "\n",
    "X_train,X_test,y_train,y_test=train_test_split(X,y,test_size=0.25,random_state=0) #25% testing 75% actual\n",
    "\n",
    "\n",
    "# Fit the model with data\n",
    "logreg = LogisticRegression(random_state=0, multi_class = 'multinomial', solver='newton-cg').fit(X_train, y_train)\n",
    "\n",
    "\n",
    "#y_pred=logreg.predict(X_test)\n",
    "\n",
    "print(\"Multinomial Logistic regression Train Accuracy :: \",accuracy_score(y_train, logreg.predict(X_train)))\n",
    "print(\"Multinomial Logistic regression Test Accuracy :: \", accuracy_score(y_test, logreg.predict(X_test)))\n",
    "\n",
    "\n",
    "\n",
    "logit_model=sm.MNLogit(y_train,sm.add_constant(X_train))\n",
    "logit_model\n",
    "result=logit_model.fit()\n",
    "stats1=result.summary()\n",
    "stats2=result.summary2()\n",
    "print(stats1)\n",
    "print(stats2)"
   ]
  },
  {
   "cell_type": "markdown",
   "id": "1b4ff724",
   "metadata": {},
   "source": [
    "# Anova"
   ]
  },
  {
   "cell_type": "markdown",
   "id": "be90fc89",
   "metadata": {},
   "source": [
    "### Anova is used to analyze the differences among means."
   ]
  },
  {
   "cell_type": "code",
   "execution_count": null,
   "id": "e16ea7cd",
   "metadata": {},
   "outputs": [],
   "source": [
    "def anova_table(aov): #Found this working script from stackoverflow\n",
    "    aov['mean_sq'] = aov[:]['sum_sq']/aov[:]['df']\n",
    "\n",
    "    aov['eta_sq'] = aov[:-1]['sum_sq']/sum(aov['sum_sq'])\n",
    "\n",
    "    aov['omega_sq'] = (aov[:-1]['sum_sq']-(aov[:-1]['df']*aov['mean_sq'][-1]))/(sum(aov['sum_sq'])+aov['mean_sq'][-1])\n",
    "\n",
    "    cols = ['sum_sq', 'df', 'mean_sq', 'F', 'PR(>F)', 'eta_sq', 'omega_sq']\n",
    "    aov = aov[cols]\n",
    "    return aov"
   ]
  },
  {
   "cell_type": "code",
   "execution_count": null,
   "id": "34e4375f",
   "metadata": {},
   "outputs": [],
   "source": [
    "#Doing anova test for my data\n",
    "file = open('BINARY_FILE.csv', 'a', newline= '')\n",
    "n = 4\n",
    "\n",
    "while(n < 28):\n",
    "\n",
    "    data = short.iloc[:, [-1,n]]\n",
    "    colname = data.columns[1]\n",
    "\n",
    "    lm = ols('%s ~ state' %colname, data = data).fit() #Ordinary least squares\n",
    "    table = sm.stats.anova_lm(lm)\n",
    "\n",
    "    print(colname)\n",
    "    print(round(anova['F'][0], 3))\n",
    "    anova = anova_table(table)\n",
    "    anova = anova.drop(labels=['Residual'], axis = 0)\n",
    "    file.write(colname)\n",
    "    file.write(',%s' % round(anova['F'][0], 3))\n",
    "    file.write(',%s' % round(anova['PR(>F)'][0], 3))\n",
    "    file.write(',%s' % round(anova['eta_sq'][0], 5))\n",
    "    file.write(',%s' % round(anova['omega_sq'][0], 5))\n",
    "    file.write('\\n')\n",
    "    n += 1\n",
    "\n",
    "file.close()"
   ]
  },
  {
   "cell_type": "markdown",
   "id": "aa3c39d3",
   "metadata": {},
   "source": [
    "# Kruskal-Wallis"
   ]
  },
  {
   "cell_type": "markdown",
   "id": "0368fcbd",
   "metadata": {},
   "source": [
    "### Method for testing whether samples originate from the same distribution. It is used for comparing two or more independent samples of equal or different sample sizes. "
   ]
  },
  {
   "cell_type": "code",
   "execution_count": null,
   "id": "7dc4574e",
   "metadata": {},
   "outputs": [],
   "source": [
    "file = open('FILE_NAME_BINARY.csv', 'a', newline= '')\n",
    "short = pd.read_csv('TOTAL_SUMS.csv', delimiter = ',')\n",
    "n = 4\n",
    "\n",
    "\n",
    "ND = short[short['state'] == 'Not depressed']\n",
    "D = short[short['state'] == 'Depressed']\n",
    "SD = short[short['state'] == 'Severely depressed']\n",
    "\n",
    "\n",
    "while(n < 28):\n",
    "    colname = short.columns[n]\n",
    "    statistics, p_value = stats.kruskal(ND.iloc[:,n], D.iloc[:,n], SD.iloc[:,n])\n",
    "    file.write(colname)\n",
    "    file.write(',%s' % round(statistics, 3))\n",
    "    file.write(',%s' % round(p_value, 3))\n",
    "    file.write('\\n')\n",
    "    n +=1\n",
    "file.close()"
   ]
  }
 ],
 "metadata": {
  "kernelspec": {
   "display_name": "Python 3",
   "language": "python",
   "name": "python3"
  },
  "language_info": {
   "codemirror_mode": {
    "name": "ipython",
    "version": 3
   },
   "file_extension": ".py",
   "mimetype": "text/x-python",
   "name": "python",
   "nbconvert_exporter": "python",
   "pygments_lexer": "ipython3",
   "version": "3.8.8"
  }
 },
 "nbformat": 4,
 "nbformat_minor": 5
}
