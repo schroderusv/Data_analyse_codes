{
 "cells": [
  {
   "cell_type": "markdown",
   "metadata": {},
   "source": [
    "# THIS SCRIPT IS FOR ADDING NEW ATTRIBUTE (depression state) BY ALREADY EXISTING NUMERICAL ATTRIBUTE (questionnaire total score)"
   ]
  },
  {
   "cell_type": "code",
   "execution_count": null,
   "metadata": {},
   "outputs": [],
   "source": [
    "df = pd.read_csv('FILE_NAME.csv')\n",
    "df.drop(df.iloc[:, 0:26], inplace = True, axis = 1)\n",
    "\n",
    "df['total'] = df.iloc[:, 2:10].sum(axis=1)\n",
    "conditions = [\n",
    "    df['total'] < 10,\n",
    "    df['total'] < 20,\n",
    "    df['total'] > 20\n",
    "]\n",
    "\n",
    "outputs = ['Not depressed', 'Depressed', 'Severely depressed']\n",
    "arr = np.select(conditions, outputs, 'Other')\n",
    "df['state']=pd.Series(arr)\n",
    "\n",
    "\n",
    "df.to_csv('NEW_FILE_NAME.csv')"
   ]
  },
  {
   "cell_type": "markdown",
   "metadata": {},
   "source": [
    "# This is for merging two files by two different parameters (uuid and PERIOD_END_DATE)"
   ]
  },
  {
   "cell_type": "code",
   "execution_count": null,
   "metadata": {},
   "outputs": [],
   "source": [
    "question_data = pd.read_csv('FILE_NAME.csv')\n",
    "  \n",
    "app_data = pd.read_csv('OTHER_FILE_NAME.csv')\n",
    "\n",
    "res = app_data.merge(question_data, how='inner', left_on=['uuid', 'PERIOD_END_DATE'], right_on=['uuid', 'date'])\n",
    "res.drop(res.iloc[:, 0:1], inplace = True, axis = 1)\n",
    "print(res)\n",
    "\n"
   ]
  },
  {
   "cell_type": "markdown",
   "metadata": {},
   "source": [
    "# THIS IS FOR SELECTING A CERTAIN VARIABLE FROM COLUMN"
   ]
  },
  {
   "cell_type": "code",
   "execution_count": null,
   "metadata": {},
   "outputs": [],
   "source": [
    "df = df[df['Day_segment'] == 'Afternoon' ]"
   ]
  },
  {
   "cell_type": "markdown",
   "metadata": {},
   "source": [
    "# FIGURE PLOTTING"
   ]
  },
  {
   "cell_type": "code",
   "execution_count": null,
   "metadata": {},
   "outputs": [],
   "source": [
    "fig, ax = plt.subplots(1)\n",
    "\n",
    "ax[0].plot(hours, app_use_A)\n",
    "ax[1].plot(hours, app_use_ND)"
   ]
  },
  {
   "cell_type": "markdown",
   "metadata": {},
   "source": [
    "# MAKING PIVOT TABLE"
   ]
  },
  {
   "cell_type": "code",
   "execution_count": null,
   "metadata": {},
   "outputs": [],
   "source": [
    "df[\"index\"] = df[\"uuid\"] + ':' + df[\"PERIOD_END_DATE\"]\n",
    "df = df.drop(['uuid', 'PERIOD_END_DATE'], axis=1)\n",
    "\n",
    "\n",
    "df = df.pivot_table(values='total', index='index', columns='HOUR')"
   ]
  },
  {
   "cell_type": "markdown",
   "metadata": {},
   "source": [
    "# PIVOT TABLE'S REFORMATTING (needed format for various algorithms)"
   ]
  },
  {
   "cell_type": "code",
   "execution_count": null,
   "metadata": {},
   "outputs": [],
   "source": [
    "df = pd.read_csv('FILE_NAME.csv')\n",
    "df[['uuid', 'period_end_date']] = df['index'].str.split(':', 1, expand=True)\n",
    "df = df.drop(['index'], axis=1)\n",
    "cols = list(df.columns.values)\n",
    "df = df[[cols[-2]] + [cols[-1]] + cols[0:24]]\n",
    "df = df.fillna(0)\n",
    "df2 = df.iloc[:, 2:26].astype(int)\n",
    "df = df[[cols[-2]] + [cols[-1]]]\n",
    "df = df.join(df2)"
   ]
  },
  {
   "cell_type": "markdown",
   "metadata": {},
   "source": [
    "# SCRIPT FOR CALCULATING LOGARITHM VALUES FOR EACH COLUMN"
   ]
  },
  {
   "cell_type": "code",
   "execution_count": null,
   "metadata": {},
   "outputs": [],
   "source": [
    "def log_func(column, cl_count):\n",
    "\n",
    "    i=0\n",
    "    values, counts = np.unique(column, return_counts=True)\n",
    "    total = len(column)\n",
    "    sum_list = []\n",
    "    while i < cl_count:\n",
    "        c = (counts[i]/total)*math.log((counts[i]/total),10)\n",
    "        sum_list.append(c)\n",
    "        \n",
    "        i += 1\n",
    "    \n",
    "    return sum(sum_list)"
   ]
  }
 ],
 "metadata": {
  "kernelspec": {
   "display_name": "Python 3",
   "language": "python",
   "name": "python3"
  },
  "language_info": {
   "codemirror_mode": {
    "name": "ipython",
    "version": 3
   },
   "file_extension": ".py",
   "mimetype": "text/x-python",
   "name": "python",
   "nbconvert_exporter": "python",
   "pygments_lexer": "ipython3",
   "version": "3.8.8"
  }
 },
 "nbformat": 4,
 "nbformat_minor": 4
}
